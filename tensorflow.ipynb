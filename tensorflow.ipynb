{
 "cells": [
  {
   "cell_type": "code",
   "execution_count": 7,
   "metadata": {},
   "outputs": [
    {
     "name": "stdout",
     "output_type": "stream",
     "text": [
      "Tensor(\"Const_5:0\", shape=(), dtype=string)\n",
      "<class 'tensorflow.python.framework.ops.Tensor'>\n",
      "b'hello'\n",
      "hello\n"
     ]
    }
   ],
   "source": [
    "import tensorflow as tf\n",
    "\n",
    "sess = tf.Session()\n",
    "\n",
    "hello = tf.constant(\"hello\")\n",
    "\n",
    "print(hello)\n",
    "print(type(hello))\n",
    "print(sess.run(hello))\n",
    "print(str(sess.run(hello), encoding='utf-8'))"
   ]
  },
  {
   "cell_type": "markdown",
   "metadata": {},
   "source": [
    "Tensor(\"Const_5:0\", shape=(), dtype=string) <BR>\n",
    "class 'tensorflow.python.framework.ops.Tensor <BR>\n",
    "b'hello' -> b= byte라는 의미 <BR>\n",
    "hello"
   ]
  },
  {
   "cell_type": "code",
   "execution_count": 5,
   "metadata": {},
   "outputs": [
    {
     "name": "stdout",
     "output_type": "stream",
     "text": [
      "Tensor(\"Add_2:0\", shape=(), dtype=int32)\n",
      "3\n"
     ]
    }
   ],
   "source": [
    "print(tf.add(1,2))\n",
    "print(sess.run(tf.add(1,2)))"
   ]
  },
  {
   "cell_type": "code",
   "execution_count": 14,
   "metadata": {},
   "outputs": [
    {
     "name": "stdout",
     "output_type": "stream",
     "text": [
      "10\n"
     ]
    }
   ],
   "source": [
    "a = tf.constant(2)\n",
    "b = tf.Variable(4)\n",
    "c = tf.multiply(a,b)\n",
    "d = tf.subtract(b,a)\n",
    "e = tf.add(c,d)\n",
    "\n",
    "init = tf.global_variables_initializer()\n",
    "sess.run(init)\n",
    "\n",
    "print(sess.run(e))"
   ]
  },
  {
   "cell_type": "code",
   "execution_count": null,
   "metadata": {},
   "outputs": [],
   "source": []
  }
 ],
 "metadata": {
  "kernelspec": {
   "display_name": "Python 3",
   "language": "python",
   "name": "python3"
  },
  "language_info": {
   "codemirror_mode": {
    "name": "ipython",
    "version": 3
   },
   "file_extension": ".py",
   "mimetype": "text/x-python",
   "name": "python",
   "nbconvert_exporter": "python",
   "pygments_lexer": "ipython3",
   "version": "3.6.5"
  }
 },
 "nbformat": 4,
 "nbformat_minor": 2
}
