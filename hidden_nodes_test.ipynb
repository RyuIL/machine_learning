{
 "cells": [
  {
   "cell_type": "code",
   "execution_count": 64,
   "metadata": {},
   "outputs": [],
   "source": [
    "# python notebook for Make Your Own Neural Network\n",
    "# code for a 3-layer neural network, and code for learning the MNIST dataset\n",
    "# this version creates additional training examples by rotating each original by +/- 10 degrees\n",
    "# (c) Tariq Rashid, 2016\n",
    "# license is GPLv2"
   ]
  },
  {
   "cell_type": "code",
   "execution_count": 1,
   "metadata": {},
   "outputs": [],
   "source": [
    "# numpy provides arrays and useful functions for working with them\n",
    "import numpy\n",
    "# scipy.special for the sigmoid function expit()\n",
    "import scipy.special\n",
    "# scipy.ndimage for rotating image arrays\n",
    "import scipy.ndimage"
   ]
  },
  {
   "cell_type": "code",
   "execution_count": 2,
   "metadata": {},
   "outputs": [],
   "source": [
    "# neural network class definition\n",
    "class neuralNetwork:\n",
    "\n",
    "    # initialise the neural network\n",
    "    def __init__(self, inputnodes, hiddennodes, outputnodes, learningrate):\n",
    "        # set number of nodes in each input, hidden, output layer\n",
    "        self.inodes = inputnodes\n",
    "        self.hnodes = hiddennodes\n",
    "        self.onodes = outputnodes\n",
    "        \n",
    "        # link weight matrices, wih and who\n",
    "        # weights inside the arrays are w_i_j, where link is from node i to node j in the next layer\n",
    "        # w11 w21\n",
    "        # w12 w22 etc \n",
    "        self.wih = numpy.random.normal(0.0, pow(self.inodes, -0.5), (self.hnodes, self.inodes))\n",
    "        self.who = numpy.random.normal(0.0, pow(self.hnodes, -0.5), (self.onodes, self.hnodes))\n",
    "\n",
    "        # learning rate\n",
    "        self.lr = learningrate\n",
    "        \n",
    "        # activation function is the sigmoid function\n",
    "        self.activation_function = lambda x: scipy.special.expit(x)\n",
    "        \n",
    "        pass\n",
    "\n",
    "    \n",
    "    # train the neural network\n",
    "    def train(self, inputs_list, targets_list):\n",
    "        # convert inputs list to 2d array\n",
    "        inputs = numpy.array(inputs_list, ndmin=2).T\n",
    "        targets = numpy.array(targets_list, ndmin=2).T\n",
    "        \n",
    "        # calculate signals into hidden layer\n",
    "        hidden_inputs = numpy.dot(self.wih, inputs)\n",
    "        # calculate the signals emerging from hidden layer\n",
    "        hidden_outputs = self.activation_function(hidden_inputs)\n",
    "        \n",
    "        # calculate signals into final output layer\n",
    "        final_inputs = numpy.dot(self.who, hidden_outputs)\n",
    "        # calculate the signals emerging from final output layer\n",
    "        final_outputs = self.activation_function(final_inputs)\n",
    "        \n",
    "        # output layer error is the (target - actual)\n",
    "        output_errors = targets - final_outputs\n",
    "        # hidden layer error is the output_errors, split by weights, recombined at hidden nodes\n",
    "        hidden_errors = numpy.dot(self.who.T, output_errors)\n",
    "        \n",
    "        # update the weights for the links between the hidden and output layers\n",
    "        self.who += self.lr * numpy.dot((output_errors * final_outputs * (1.0 - final_outputs)), numpy.transpose(hidden_outputs))\n",
    "        \n",
    "        # update the weights for the links between the input and hidden layers\n",
    "        self.wih += self.lr * numpy.dot((hidden_errors * hidden_outputs * (1.0 - hidden_outputs)), numpy.transpose(inputs))\n",
    "        \n",
    "        pass\n",
    "\n",
    "    \n",
    "    # query the neural network\n",
    "    def query(self, inputs_list):\n",
    "        # convert inputs list to 2d array\n",
    "        inputs = numpy.array(inputs_list, ndmin=2).T\n",
    "        \n",
    "        # calculate signals into hidden layer\n",
    "        hidden_inputs = numpy.dot(self.wih, inputs)\n",
    "        # calculate the signals emerging from hidden layer\n",
    "        hidden_outputs = self.activation_function(hidden_inputs)\n",
    "        \n",
    "        # calculate signals into final output layer\n",
    "        final_inputs = numpy.dot(self.who, hidden_outputs)\n",
    "        # calculate the signals emerging from final output layer\n",
    "        final_outputs = self.activation_function(final_inputs)\n",
    "        \n",
    "        return final_outputs"
   ]
  },
  {
   "cell_type": "code",
   "execution_count": 3,
   "metadata": {},
   "outputs": [],
   "source": [
    "# load the mnist training data CSV file into a list# load  \n",
    "training_data_file = open(\"mnist_train.csv\", 'r')\n",
    "training_data_list = training_data_file.readlines()\n",
    "training_data_file.close()"
   ]
  },
  {
   "cell_type": "code",
   "execution_count": 4,
   "metadata": {},
   "outputs": [],
   "source": [
    "# load the mnist test data CSV file into a list\n",
    "test_data_file = open(\"mnist_test.csv\", 'r')\n",
    "test_data_list = test_data_file.readlines()\n",
    "test_data_file.close()"
   ]
  },
  {
   "cell_type": "code",
   "execution_count": 5,
   "metadata": {},
   "outputs": [],
   "source": [
    "def do_ex(hi):\n",
    "    \n",
    "    # number of input, hidden and output nodes\n",
    "    input_nodes = 784\n",
    "    hidden_nodes = 200\n",
    "    output_nodes = 10\n",
    "\n",
    "    # learning rate\n",
    "    learning_rate = 0.1    #학습율/새로운값에대해 변화하는 정도\n",
    "\n",
    "    # create instance of neural network\n",
    "    n = neuralNetwork(input_nodes,hidden_nodes,output_nodes, learning_rate)\n",
    "\n",
    "    # train the neural network\n",
    "\n",
    "    # epochs is the number of times the training data set is used for training\n",
    "    epochs = hi    #주기 몇번을 반복하는가\n",
    "\n",
    "    for e in range(epochs):\n",
    "        # go through all records in the training data set\n",
    "        for record in training_data_list:\n",
    "            # split the record by the ',' commas\n",
    "            all_values = record.split(',')\n",
    "            # scale and shift the inputs\n",
    "            inputs = (numpy.asfarray(all_values[1:]) / 255.0 * 0.99) + 0.01\n",
    "            # create the target output values (all 0.01, except the desired label which is 0.99)\n",
    "            targets = numpy.zeros(output_nodes) + 0.01\n",
    "            # all_values[0] is the target label for this record\n",
    "            targets[int(all_values[0])] = 0.99\n",
    "            n.train(inputs, targets)\n",
    "\n",
    "            ## create rotated variations\n",
    "            # rotated anticlockwise by x degrees\n",
    "            inputs_plusx_img = scipy.ndimage.interpolation.rotate(inputs.reshape(28,28), 10, cval=0.01, order=1, reshape=False)\n",
    "            n.train(inputs_plusx_img.reshape(784), targets)\n",
    "            # rotated clockwise by x degrees\n",
    "            inputs_minusx_img = scipy.ndimage.interpolation.rotate(inputs.reshape(28,28), -10, cval=0.01, order=1, reshape=False)\n",
    "            n.train(inputs_minusx_img.reshape(784), targets)\n",
    "\n",
    "            # rotated anticlockwise by 10 degrees\n",
    "            #inputs_plus10_img = scipy.ndimage.interpolation.rotate(inputs.reshape(28,28), 10, cval=0.01, order=1, reshape=False)\n",
    "            #n.train(inputs_plus10_img.reshape(784), targets)\n",
    "            # rotated clockwise by 10 degrees\n",
    "            #inputs_minus10_img = scipy.ndimage.interpolation.rotate(inputs.reshape(28,28), -10, cval=0.01, order=1, reshape=False)\n",
    "            #n.train(inputs_minus10_img.reshape(784), targets)\n",
    "\n",
    "            pass\n",
    "        pass\n",
    "\n",
    "    # test the neural network\n",
    "\n",
    "    # scorecard for how well the network performs, initially empty\n",
    "    scorecard = []\n",
    "\n",
    "    # go through all the records in the test data set\n",
    "    for record in test_data_list:\n",
    "        # split the record by the ',' commas\n",
    "        all_values = record.split(',')\n",
    "        # correct answer is first value\n",
    "        correct_label = int(all_values[0])\n",
    "        # scale and shift the inputs\n",
    "        inputs = (numpy.asfarray(all_values[1:]) / 255.0 * 0.99) + 0.01\n",
    "        # query the network\n",
    "        outputs = n.query(inputs)\n",
    "        # the index of the highest value corresponds to the label\n",
    "        label = numpy.argmax(outputs)\n",
    "        # append correct or incorrect to list\n",
    "        if (label == correct_label):\n",
    "            # network's answer matches correct answer, add 1 to scorecard\n",
    "            scorecard.append(1)\n",
    "        else:\n",
    "            # network's answer doesn't match correct answer, add 0 to scorecard\n",
    "            scorecard.append(0)\n",
    "            pass\n",
    "\n",
    "        pass\n",
    "\n",
    "    # calculate the performance score, the fraction of correct answers# calcu \n",
    "    scorecard_array = numpy.asarray(scorecard)\n",
    "    performance = scorecard_array.sum() / scorecard_array.size\n",
    "    print (\"performance = \", performance)"
   ]
  },
  {
   "cell_type": "code",
   "execution_count": 6,
   "metadata": {
    "scrolled": true
   },
   "outputs": [
    {
     "name": "stdout",
     "output_type": "stream",
     "text": [
      "performance =  0.9594\n",
      "performance =  0.9648\n",
      "performance =  0.9671\n",
      "performance =  0.9698\n",
      "performance =  0.9666\n",
      "performance =  0.9663\n",
      "performance =  0.9671\n",
      "[None, None, None, None, None, None, None]\n"
     ]
    }
   ],
   "source": [
    "h_list = [1, 2, 3, 4, 5, 7, 10]\n",
    "result_list=[]\n",
    "\n",
    "for h in h_list:\n",
    "    result=do_ex(h)\n",
    "    result_list.append(result)\n",
    "    pass\n",
    "\n",
    "print(result_list)"
   ]
  },
  {
   "cell_type": "code",
   "execution_count": 71,
   "metadata": {},
   "outputs": [],
   "source": [
    "#result_list=[0.944,0.9495,0.9553,0.9528,0.9522,0.9459,0.9549,0.9503] // 위에서 결과값을 배열에 넣어준다.\n",
    "#h_list = [5, 10, 50, 100, 200, 500]\n",
    "#result_list = [0.6898, 0.9032, 0.9425, 0.9627, 0.9714, 0.9739]\n",
    "#\n",
    "#import matplotlib.pyplot as plt\n",
    "#%matplotlib inline\n",
    "#\n",
    "#plt.xlabel(\"hidden nodes\")\n",
    "#plt.ylabel(\"performance\")\n",
    "#plt.axis([0,500,0.67,1])\n",
    "#plt.grid(True)\n",
    "#plt.plot(h_list,result_list, 'ks-')\n",
    "#plt.show()"
   ]
  },
  {
   "cell_type": "code",
   "execution_count": 72,
   "metadata": {},
   "outputs": [
    {
     "data": {
      "text/plain": [
       "[None, None, None, None, None, None]"
      ]
     },
     "execution_count": 72,
     "metadata": {},
     "output_type": "execute_result"
    }
   ],
   "source": [
    "performance =  0.8191\n",
    "performance =  0.8955\n",
    "performance =  0.9478\n",
    "performance =  0.9597\n",
    "performance =  0.9687\n",
    "performance =  0.9747\n",
    "[None, None, None, None, None, None]"
   ]
  }
 ],
 "metadata": {
  "kernelspec": {
   "display_name": "Python 3",
   "language": "python",
   "name": "python3"
  },
  "language_info": {
   "codemirror_mode": {
    "name": "ipython",
    "version": 3
   },
   "file_extension": ".py",
   "mimetype": "text/x-python",
   "name": "python",
   "nbconvert_exporter": "python",
   "pygments_lexer": "ipython3",
   "version": "3.6.5"
  }
 },
 "nbformat": 4,
 "nbformat_minor": 2
}
