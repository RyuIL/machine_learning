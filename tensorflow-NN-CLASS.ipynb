{
 "cells": [
  {
   "cell_type": "code",
   "execution_count": 3,
   "metadata": {},
   "outputs": [
    {
     "name": "stdout",
     "output_type": "stream",
     "text": [
      "Extracting MNIST_data/train-images-idx3-ubyte.gz\n",
      "Extracting MNIST_data/train-labels-idx1-ubyte.gz\n",
      "Extracting MNIST_data/t10k-images-idx3-ubyte.gz\n",
      "Extracting MNIST_data/t10k-labels-idx1-ubyte.gz\n",
      "0.9455\n"
     ]
    }
   ],
   "source": [
    "#http://adventuresinmachinelearning.com/python-tensorflow-tutorial/ 참고\n",
    "\n",
    "from tensorflow.examples.tutorials.mnist import input_data\n",
    "mnist = input_data.read_data_sets(\"MNIST_data/\", one_hot=True)\n",
    "\n",
    "import tensorflow as tf\n",
    "\n",
    "# Python optimisation variables\n",
    "learning_rate = 0.2\n",
    "epochs = 3\n",
    "\n",
    "# declare the training data placeholders\n",
    "# input x - for 28 x 28 pixels = 784\n",
    "inputs = tf.placeholder(tf.float32, [None, 784])\n",
    "# now declare the output data placeholder - 10 digits\n",
    "targets = tf.placeholder(tf.float32, [None, 10])\n",
    "\n",
    "# now declare the weights connecting the input to the hidden layer\n",
    "Wih = tf.Variable(tf.random_normal([784, 100], stddev=0.03))\n",
    "# and the weights connecting the hidden layer to the output layer\n",
    "Who = tf.Variable(tf.random_normal([100, 10], stddev=0.1))\n",
    "\n",
    "\n",
    "# calculate the output of the hidden layer\n",
    "hidden_inputs = tf.matmul(inputs, Wih)\n",
    "hidden_outputs = tf.nn.sigmoid(hidden_inputs)\n",
    "\n",
    "# now calculate the output of output layer\n",
    "final_inputs = tf.matmul(hidden_outputs, Who)\n",
    "final_outputs = tf.nn.sigmoid(final_inputs)\n",
    "\n",
    "final_error = tf.reduce_mean(tf.square(final_outputs - targets ))\n",
    "#final_error = tf.reduce_mean(tf.abs(final_outputs - targets))\n",
    "\n",
    "# add an optimiser\n",
    "optimizer = tf.train.GradientDescentOptimizer(learning_rate=learning_rate).minimize(final_error)\n",
    "\n",
    "# finally setup the initialisation operator\n",
    "init_op = tf.global_variables_initializer()\n",
    "\n",
    "# define an accuracy assessment operation\n",
    "correct_prediction = tf.equal(tf.argmax(targets, 1), tf.argmax(final_outputs, 1))\n",
    "accuracy = tf.reduce_mean(tf.cast(correct_prediction, tf.float32))\n",
    "\n",
    "# start the session\n",
    "sess = tf.Session()\n",
    "\n",
    "# initialise the variables\n",
    "sess.run(init_op)\n",
    "\n",
    "for epoch in range(epochs):\n",
    "    for i in range(55000):\n",
    "        batch_x, batch_y = mnist.train.next_batch(batch_size=1)\n",
    "        sess.run(optimizer, feed_dict={inputs: batch_x, targets: batch_y})\n",
    "        pass\n",
    "    pass\n",
    "\n",
    "print(sess.run(accuracy, feed_dict={inputs: mnist.test.images, targets: mnist.test.labels}))\n",
    "\n",
    "#learning rate = 0.1, epoch = 20, hidden nodes = 100 : 0.9674\n",
    "#learning rate = 0.2, epoch = 20, hidden nodes = 100 : 0.9761\n",
    "#learning rate = 0.3, epoch = 20, hidden nodes = 100 : 0.9751\n",
    "#learning rate = 0.3, epoch = 40, hidden nodes = 100 : 0.9793\n",
    "#learning rate = 0.2, epoch = 5, hidden nodes = 100 : 0.9558\n",
    "#learning rate = 0.2, epoch = 40, hidden nodes = 100 : 0.9772\n",
    "\n",
    "\n",
    "#bias 추가 가능\n",
    "#b1 = tf.Variable(tf.random_normal([100]))  ##100 <-- hidden node 수\n",
    "#b2 = tf.Variable(tf.random_normal([10]))\n",
    "#hidden_inputs = tf.add(tf.matmul(inputs, Wih), b1)\n",
    "#final_inputs = tf.add(tf.matmul(hidden_out, Who), b2)\n"
   ]
  },
  {
   "cell_type": "code",
   "execution_count": null,
   "metadata": {
    "collapsed": true
   },
   "outputs": [],
   "source": []
  }
 ],
 "metadata": {
  "kernelspec": {
   "display_name": "Python 3",
   "language": "python",
   "name": "python3"
  },
  "language_info": {
   "codemirror_mode": {
    "name": "ipython",
    "version": 3
   },
   "file_extension": ".py",
   "mimetype": "text/x-python",
   "name": "python",
   "nbconvert_exporter": "python",
   "pygments_lexer": "ipython3",
   "version": "3.6.3"
  }
 },
 "nbformat": 4,
 "nbformat_minor": 2
}
